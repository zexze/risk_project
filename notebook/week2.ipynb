{
 "cells": [
  {
   "cell_type": "code",
   "execution_count": 6,
   "metadata": {},
   "outputs": [],
   "source": [
    "import os\n",
    "from pathlib import Path\n",
    "import numpy as np \n",
    "import pandas as pd \n",
    "import smtplib\n",
    "import yfinance as yf\n",
    "pd.set_option(\"display.float_format\", \"{:.4f}\".format)\n",
    "# base_path = Path.cwd().parent\n",
    "# os.chdir(base_path) "
   ]
  },
  {
   "cell_type": "markdown",
   "metadata": {},
   "source": [
    "Develop a Python Emailer for Market Data Monitor\n",
    "\n",
    "Leveraging the emailer to automate the daily process of retrieving stock price data and deliver an email to the team containing:\n",
    "\n",
    "1. An Excel attachment with stock price data from 2023\n",
    "2. A summary table for Year-to-Date (YTD), Month-to-Date (MTD), and Day-to-Date (DTD) returns. \n",
    "3. Graphs showing price trends."
   ]
  },
  {
   "cell_type": "markdown",
   "metadata": {},
   "source": [
    "Step 1: Set Up Gmail (please use your personal email rather than Stratifi Email) for Sending Emails\n",
    "- Enable Two-Step Verification: Go to your Google account settings and enable 2-Step Verification\n",
    "- Create an App Password: After enabling 2-Step Verification, create an App Password (nneleejuaadchfas)\n"
   ]
  },
  {
   "cell_type": "markdown",
   "metadata": {},
   "source": [
    "Step 2: Implement the Email Sending Function"
   ]
  },
  {
   "cell_type": "code",
   "execution_count": null,
   "metadata": {},
   "outputs": [],
   "source": [
    "recipients = \"hzxjenny95@gmail.com; jennyhzx@gmail.com\"\n",
    "subject = \"week2 project testing\"\n",
    "content = '' # \"<html><body><h1>Daily Report</h1><p>Here is your report...</p></body></html>\" \n",
    "attachments = [] # Example: [\"/path/to/report.pdf\", \"/path/to/data.csv\"] \n",
    "plots = [] # [\"/path/to/plot1.png\", \"/path/to/plot2.jpg\"]"
   ]
  },
  {
   "cell_type": "code",
   "execution_count": null,
   "metadata": {},
   "outputs": [],
   "source": [
    "def send_email(recipients: str, subject: str, content: str, attachments=None, plots=None):\n",
    "    return"
   ]
  },
  {
   "cell_type": "code",
   "execution_count": null,
   "metadata": {},
   "outputs": [],
   "source": []
  },
  {
   "cell_type": "markdown",
   "metadata": {},
   "source": [
    "Step 3: Retrieve Data and Generate Content\n",
    "\n",
    "1. Download Price Data: Use the yfinance API to download daily price data for SPX, VIX, and AAPL starting from January 2, 2023\n",
    "2. Calculate Returns: Assume today is December 27, 2024, and calculate: \n",
    "- DTD Return (Day-to-Date): Percent change from the previous trading day.\n",
    "- MTD Return (Month-to-Date): Percent change from the first trading day of December 2024.\n",
    "- YTD Return (Year-to-Date): Percent change from the first trading day of 2024. \n",
    "3. Generate Graphs: Create line graphs showing the price trends in 2024 for each ticker. Save these as jpg files.\n",
    "4. Create Excel Report: Save the daily price data for each ticker into an Excel file (xlsx) with three sheets (one per ticker)."
   ]
  },
  {
   "cell_type": "code",
   "execution_count": 17,
   "metadata": {},
   "outputs": [
    {
     "name": "stderr",
     "output_type": "stream",
     "text": [
      "MSFT: No price data found, symbol may be delisted (period=1mo)\n"
     ]
    },
    {
     "data": {
      "text/html": [
       "<div>\n",
       "<style scoped>\n",
       "    .dataframe tbody tr th:only-of-type {\n",
       "        vertical-align: middle;\n",
       "    }\n",
       "\n",
       "    .dataframe tbody tr th {\n",
       "        vertical-align: top;\n",
       "    }\n",
       "\n",
       "    .dataframe thead th {\n",
       "        text-align: right;\n",
       "    }\n",
       "</style>\n",
       "<table border=\"1\" class=\"dataframe\">\n",
       "  <thead>\n",
       "    <tr style=\"text-align: right;\">\n",
       "      <th></th>\n",
       "      <th>Open</th>\n",
       "      <th>High</th>\n",
       "      <th>Low</th>\n",
       "      <th>Close</th>\n",
       "      <th>Adj Close</th>\n",
       "      <th>Volume</th>\n",
       "    </tr>\n",
       "    <tr>\n",
       "      <th>Date</th>\n",
       "      <th></th>\n",
       "      <th></th>\n",
       "      <th></th>\n",
       "      <th></th>\n",
       "      <th></th>\n",
       "      <th></th>\n",
       "    </tr>\n",
       "  </thead>\n",
       "  <tbody>\n",
       "  </tbody>\n",
       "</table>\n",
       "</div>"
      ],
      "text/plain": [
       "Empty DataFrame\n",
       "Columns: [Open, High, Low, Close, Adj Close, Volume]\n",
       "Index: []"
      ]
     },
     "execution_count": 17,
     "metadata": {},
     "output_type": "execute_result"
    }
   ],
   "source": [
    "dat = yf.Ticker(\"MSFT\")\n",
    "# dat.info\n",
    "# dat.calendar\n",
    "# dat.analyst_price_targets\n",
    "# dat.quarterly_income_stmt\n",
    "dat.history(period='1mo')\n",
    "# dat.option_chain(dat.options[0]).calls"
   ]
  },
  {
   "cell_type": "code",
   "execution_count": 32,
   "metadata": {},
   "outputs": [
    {
     "name": "stdout",
     "output_type": "stream",
     "text": [
      "[*********************100%%**********************]  1 of 1 completed"
     ]
    },
    {
     "name": "stderr",
     "output_type": "stream",
     "text": [
      "\n",
      "1 Failed download:\n",
      "['MSFT']: Exception('%ticker%: No price data found, symbol may be delisted (1d 2024-01-01 -> 2024-02-01)')\n"
     ]
    },
    {
     "name": "stdout",
     "output_type": "stream",
     "text": [
      "\n",
      "Empty DataFrame\n",
      "Columns: [Open, High, Low, Close, Adj Close, Volume]\n",
      "Index: []\n"
     ]
    }
   ],
   "source": [
    "# import yfinance as yf\n",
    "\n",
    "data = yf.download(\"MSFT\", start=\"2024-01-01\", end=\"2024-02-01\", auto_adjust=True)\n",
    "print(data.head())\n"
   ]
  },
  {
   "cell_type": "code",
   "execution_count": null,
   "metadata": {},
   "outputs": [],
   "source": [
    "f = yf.download(tickers.Symbol.str.strip().to_list(),'2022-1-1',today, auto_adjust=True)['Close']"
   ]
  },
  {
   "cell_type": "code",
   "execution_count": 28,
   "metadata": {},
   "outputs": [
    {
     "name": "stdout",
     "output_type": "stream",
     "text": [
      "DEBUG:urllib3.connectionpool:Starting new HTTPS connection (1): repo.anaconda.com:443\n",
      "DEBUG:urllib3.connectionpool:Starting new HTTPS connection (1): repo.anaconda.com:443\n",
      "DEBUG:urllib3.connectionpool:Starting new HTTPS connection (1): repo.anaconda.com:443\n",
      "DEBUG:urllib3.connectionpool:Starting new HTTPS connection (1): repo.anaconda.com:443\n",
      "DEBUG:urllib3.connectionpool:https://repo.anaconda.com:443 \"GET /pkgs/r/osx-64/repodata.json HTTP/1.1\" 304 0\n",
      "DEBUG:urllib3.connectionpool:https://repo.anaconda.com:443 \"GET /pkgs/r/noarch/repodata.json HTTP/1.1\" 200 None\n",
      "DEBUG:urllib3.connectionpool:https://repo.anaconda.com:443 \"GET /pkgs/main/osx-64/repodata.json HTTP/1.1\" 200 None\n",
      "DEBUG:urllib3.connectionpool:https://repo.anaconda.com:443 \"GET /pkgs/main/noarch/repodata.json HTTP/1.1\" 200 None\n",
      "\n",
      "\n",
      "==> WARNING: A newer version of conda exists. <==\n",
      "  current version: 23.7.2\n",
      "  latest version: 25.1.1\n",
      "\n",
      "Please update conda by running\n",
      "\n",
      "    $ conda update -n base -c defaults conda\n",
      "\n",
      "Or to minimize the number of packages updated during conda update use\n",
      "\n",
      "     conda install conda=25.1.1\n",
      "\n",
      "\n",
      "\n",
      "PackagesNotFoundError: The following packages are missing from the target environment:\n",
      "  - yfinance\n",
      "\n",
      "\n"
     ]
    }
   ],
   "source": [
    "!conda remove --force yfinance\n",
    "# pip install --no-cache-dir yfinance\n",
    "\n",
    "\n",
    "\n"
   ]
  },
  {
   "cell_type": "code",
   "execution_count": 29,
   "metadata": {},
   "outputs": [
    {
     "name": "stdout",
     "output_type": "stream",
     "text": [
      "Requirement already satisfied: yfinance in /Users/zexing/anaconda3/lib/python3.11/site-packages (0.2.54)\n",
      "Requirement already satisfied: pandas>=1.3.0 in /Users/zexing/anaconda3/lib/python3.11/site-packages (from yfinance) (2.1.1)\n",
      "Requirement already satisfied: numpy>=1.16.5 in /Users/zexing/anaconda3/lib/python3.11/site-packages (from yfinance) (1.24.3)\n",
      "Requirement already satisfied: requests>=2.31 in /Users/zexing/anaconda3/lib/python3.11/site-packages (from yfinance) (2.31.0)\n",
      "Requirement already satisfied: multitasking>=0.0.7 in /Users/zexing/anaconda3/lib/python3.11/site-packages (from yfinance) (0.0.11)\n",
      "Requirement already satisfied: platformdirs>=2.0.0 in /Users/zexing/anaconda3/lib/python3.11/site-packages (from yfinance) (3.10.0)\n",
      "Requirement already satisfied: pytz>=2022.5 in /Users/zexing/anaconda3/lib/python3.11/site-packages (from yfinance) (2022.7)\n",
      "Requirement already satisfied: frozendict>=2.3.4 in /Users/zexing/anaconda3/lib/python3.11/site-packages (from yfinance) (2.3.8)\n",
      "Requirement already satisfied: peewee>=3.16.2 in /Users/zexing/anaconda3/lib/python3.11/site-packages (from yfinance) (3.16.3)\n",
      "Requirement already satisfied: beautifulsoup4>=4.11.1 in /Users/zexing/anaconda3/lib/python3.11/site-packages (from yfinance) (4.12.2)\n",
      "Requirement already satisfied: soupsieve>1.2 in /Users/zexing/anaconda3/lib/python3.11/site-packages (from beautifulsoup4>=4.11.1->yfinance) (2.4)\n",
      "Requirement already satisfied: python-dateutil>=2.8.2 in /Users/zexing/anaconda3/lib/python3.11/site-packages (from pandas>=1.3.0->yfinance) (2.8.2)\n",
      "Requirement already satisfied: tzdata>=2022.1 in /Users/zexing/anaconda3/lib/python3.11/site-packages (from pandas>=1.3.0->yfinance) (2023.3)\n",
      "Requirement already satisfied: charset-normalizer<4,>=2 in /Users/zexing/anaconda3/lib/python3.11/site-packages (from requests>=2.31->yfinance) (2.0.4)\n",
      "Requirement already satisfied: idna<4,>=2.5 in /Users/zexing/anaconda3/lib/python3.11/site-packages (from requests>=2.31->yfinance) (2.10)\n",
      "Requirement already satisfied: urllib3<3,>=1.21.1 in /Users/zexing/anaconda3/lib/python3.11/site-packages (from requests>=2.31->yfinance) (1.26.16)\n",
      "Requirement already satisfied: certifi>=2017.4.17 in /Users/zexing/anaconda3/lib/python3.11/site-packages (from requests>=2.31->yfinance) (2023.7.22)\n",
      "Requirement already satisfied: six>=1.5 in /Users/zexing/anaconda3/lib/python3.11/site-packages (from python-dateutil>=2.8.2->pandas>=1.3.0->yfinance) (1.16.0)\n",
      "Note: you may need to restart the kernel to use updated packages.\n"
     ]
    }
   ],
   "source": [
    "pip install --no-cache-dir yfinance"
   ]
  },
  {
   "cell_type": "code",
   "execution_count": null,
   "metadata": {},
   "outputs": [],
   "source": []
  },
  {
   "cell_type": "markdown",
   "metadata": {},
   "source": [
    "Step 4: Create an HTML Template for the Email Body\n",
    "\n",
    "- Content Structure:\n",
    "    - Display the YTD, MTD, and DTD returns for SPX, VIX, and AAPL in a formatted table.\n",
    "    - Insert the time-series line plots directly into the email for a quick visual overview."
   ]
  },
  {
   "cell_type": "code",
   "execution_count": 6,
   "metadata": {},
   "outputs": [
    {
     "data": {
      "text/plain": [
       "8"
      ]
     },
     "execution_count": 6,
     "metadata": {},
     "output_type": "execute_result"
    }
   ],
   "source": [
    "sorted(set([8,9,2,4,10,1]), reverse = True)[2]"
   ]
  },
  {
   "cell_type": "code",
   "execution_count": null,
   "metadata": {},
   "outputs": [],
   "source": []
  },
  {
   "cell_type": "markdown",
   "metadata": {},
   "source": [
    "Step 5: Assemble and Send the Email \n",
    "- Call the send_email function with the generated HTML body, attaching the Excel file and graphs, and send the email to the recipient.\n",
    "- Schedule this process to run daily for automated reporting. You can use Task Scheduler (Windows) or Scheduler (Mac) to trigger your Python script at your scheduled time"
   ]
  },
  {
   "cell_type": "code",
   "execution_count": null,
   "metadata": {},
   "outputs": [],
   "source": []
  },
  {
   "cell_type": "code",
   "execution_count": null,
   "metadata": {},
   "outputs": [],
   "source": []
  },
  {
   "cell_type": "code",
   "execution_count": null,
   "metadata": {},
   "outputs": [],
   "source": []
  },
  {
   "cell_type": "code",
   "execution_count": null,
   "metadata": {},
   "outputs": [],
   "source": []
  }
 ],
 "metadata": {
  "kernelspec": {
   "display_name": "base",
   "language": "python",
   "name": "python3"
  },
  "language_info": {
   "codemirror_mode": {
    "name": "ipython",
    "version": 3
   },
   "file_extension": ".py",
   "mimetype": "text/x-python",
   "name": "python",
   "nbconvert_exporter": "python",
   "pygments_lexer": "ipython3",
   "version": "3.11.4"
  }
 },
 "nbformat": 4,
 "nbformat_minor": 2
}
