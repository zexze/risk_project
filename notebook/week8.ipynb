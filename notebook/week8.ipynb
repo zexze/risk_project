{
 "cells": [
  {
   "cell_type": "code",
   "execution_count": 1,
   "metadata": {},
   "outputs": [],
   "source": [
    "import pandas as pd  \n",
    "import numpy as np\n",
    "import re"
   ]
  },
  {
   "cell_type": "code",
   "execution_count": 2,
   "metadata": {},
   "outputs": [],
   "source": [
    "yield_curve_data = pd.read_excel(r'../data/S490.xlsx',sheet_name='S490')"
   ]
  },
  {
   "cell_type": "markdown",
   "metadata": {},
   "source": [
    "Task 1.1 Load the Data"
   ]
  },
  {
   "cell_type": "code",
   "execution_count": 3,
   "metadata": {},
   "outputs": [],
   "source": [
    "def convert_duration(tenor: str) -> float:\n",
    "\n",
    "    num = float(re.findall(r'\\d+', tenor)[0])\n",
    "    unit = re.findall(r'[a-zA-Z%]+', tenor)[0]\n",
    "\n",
    "    if unit.lower() == 'm':\n",
    "        return num/12\n",
    "    \n",
    "    else:\n",
    "        return num"
   ]
  },
  {
   "cell_type": "code",
   "execution_count": 4,
   "metadata": {},
   "outputs": [],
   "source": [
    "yield_curve_data[\"tenor(y)\"] = yield_curve_data['Tenor'].apply(lambda x:convert_duration(x))"
   ]
  },
  {
   "cell_type": "markdown",
   "metadata": {},
   "source": [
    "Task 1.2 Create YieldCurve Object"
   ]
  },
  {
   "cell_type": "code",
   "execution_count": null,
   "metadata": {},
   "outputs": [],
   "source": [
    "class yield_curve:\n",
    "    def __init__(self, market_data):\n",
    "        self.market_data = market_data.sort_values(by = 'tenor(y)')[['tenor(y)', 'Rate']].reset_index(drop = True)\n",
    "    \n",
    "    def get_interest_rate(self, tenor):\n",
    "        return self.market_data.loc[self.market_data['tenor(y)'] == tenor, 'Rate'].iat[0]\n",
    "    \n",
    "    def linear_interpolation(self, tenor):\n",
    "        if tenor in self.market_data['tenor(y)']:\n",
    "            return self.get_interest_rate(tenor)\n",
    "        \n",
    "        self.market_data['diff'] = self.market_data['tenor(y)'] - tenor\n",
    "        self.market_data.sort_values(by = 'diff')\n",
    "\n",
    "        return \n",
    "\n",
    "    def show_df(self):\n",
    "        return self.market_data\n",
    "    \n",
    "    def cubic_spline(self, tenor):\n",
    "        return \n",
    "    \n",
    "    def nelson_siegel(self, tenor):\n",
    "        return \n",
    "    \n",
    "    def get_rate(self, tenor, method = 'linear'):\n",
    "        if method == 'linear':\n",
    "            return self.linear_interpolation(tenor)\n",
    "        elif method == 'cubic':\n",
    "            return self.cubic_spline(tenor)\n",
    "        elif method == 'nelson':\n",
    "            return self.nelson_siegel(tenor)"
   ]
  },
  {
   "cell_type": "markdown",
   "metadata": {},
   "source": [
    "Step 1.2.2: Implement the Interpolation Methods"
   ]
  },
  {
   "cell_type": "code",
   "execution_count": 28,
   "metadata": {},
   "outputs": [],
   "source": [
    "yc = yield_curve(yield_curve_data)"
   ]
  },
  {
   "cell_type": "code",
   "execution_count": 29,
   "metadata": {},
   "outputs": [
    {
     "data": {
      "text/plain": [
       "3.835"
      ]
     },
     "execution_count": 29,
     "metadata": {},
     "output_type": "execute_result"
    }
   ],
   "source": [
    "yc.linear_interpolation(3)"
   ]
  },
  {
   "cell_type": "code",
   "execution_count": 1,
   "metadata": {},
   "outputs": [
    {
     "data": {
      "text/plain": [
       "4"
      ]
     },
     "execution_count": 1,
     "metadata": {},
     "output_type": "execute_result"
    }
   ],
   "source": [
    "prices = [1,2,3,4]\n",
    "max(prices[1:])"
   ]
  },
  {
   "cell_type": "code",
   "execution_count": 22,
   "metadata": {},
   "outputs": [
    {
     "data": {
      "text/html": [
       "<div>\n",
       "<style scoped>\n",
       "    .dataframe tbody tr th:only-of-type {\n",
       "        vertical-align: middle;\n",
       "    }\n",
       "\n",
       "    .dataframe tbody tr th {\n",
       "        vertical-align: top;\n",
       "    }\n",
       "\n",
       "    .dataframe thead th {\n",
       "        text-align: right;\n",
       "    }\n",
       "</style>\n",
       "<table border=\"1\" class=\"dataframe\">\n",
       "  <thead>\n",
       "    <tr style=\"text-align: right;\">\n",
       "      <th></th>\n",
       "      <th>tenor(y)</th>\n",
       "      <th>Rate</th>\n",
       "    </tr>\n",
       "  </thead>\n",
       "  <tbody>\n",
       "    <tr>\n",
       "      <th>0</th>\n",
       "      <td>0.083333</td>\n",
       "      <td>5.341</td>\n",
       "    </tr>\n",
       "    <tr>\n",
       "      <th>1</th>\n",
       "      <td>0.166667</td>\n",
       "      <td>5.347</td>\n",
       "    </tr>\n",
       "    <tr>\n",
       "      <th>2</th>\n",
       "      <td>0.250000</td>\n",
       "      <td>5.327</td>\n",
       "    </tr>\n",
       "    <tr>\n",
       "      <th>3</th>\n",
       "      <td>0.333333</td>\n",
       "      <td>5.295</td>\n",
       "    </tr>\n",
       "    <tr>\n",
       "      <th>4</th>\n",
       "      <td>0.416667</td>\n",
       "      <td>5.240</td>\n",
       "    </tr>\n",
       "    <tr>\n",
       "      <th>5</th>\n",
       "      <td>0.500000</td>\n",
       "      <td>5.179</td>\n",
       "    </tr>\n",
       "    <tr>\n",
       "      <th>6</th>\n",
       "      <td>0.583333</td>\n",
       "      <td>5.124</td>\n",
       "    </tr>\n",
       "    <tr>\n",
       "      <th>7</th>\n",
       "      <td>0.666667</td>\n",
       "      <td>5.062</td>\n",
       "    </tr>\n",
       "    <tr>\n",
       "      <th>8</th>\n",
       "      <td>0.750000</td>\n",
       "      <td>5.003</td>\n",
       "    </tr>\n",
       "    <tr>\n",
       "      <th>9</th>\n",
       "      <td>0.833333</td>\n",
       "      <td>4.946</td>\n",
       "    </tr>\n",
       "    <tr>\n",
       "      <th>10</th>\n",
       "      <td>0.916667</td>\n",
       "      <td>4.882</td>\n",
       "    </tr>\n",
       "    <tr>\n",
       "      <th>11</th>\n",
       "      <td>1.000000</td>\n",
       "      <td>4.823</td>\n",
       "    </tr>\n",
       "    <tr>\n",
       "      <th>12</th>\n",
       "      <td>1.500000</td>\n",
       "      <td>4.427</td>\n",
       "    </tr>\n",
       "    <tr>\n",
       "      <th>13</th>\n",
       "      <td>2.000000</td>\n",
       "      <td>4.154</td>\n",
       "    </tr>\n",
       "    <tr>\n",
       "      <th>14</th>\n",
       "      <td>3.000000</td>\n",
       "      <td>3.835</td>\n",
       "    </tr>\n",
       "    <tr>\n",
       "      <th>15</th>\n",
       "      <td>4.000000</td>\n",
       "      <td>3.679</td>\n",
       "    </tr>\n",
       "    <tr>\n",
       "      <th>16</th>\n",
       "      <td>5.000000</td>\n",
       "      <td>3.599</td>\n",
       "    </tr>\n",
       "    <tr>\n",
       "      <th>17</th>\n",
       "      <td>6.000000</td>\n",
       "      <td>3.560</td>\n",
       "    </tr>\n",
       "    <tr>\n",
       "      <th>18</th>\n",
       "      <td>7.000000</td>\n",
       "      <td>3.539</td>\n",
       "    </tr>\n",
       "    <tr>\n",
       "      <th>19</th>\n",
       "      <td>8.000000</td>\n",
       "      <td>3.528</td>\n",
       "    </tr>\n",
       "    <tr>\n",
       "      <th>20</th>\n",
       "      <td>9.000000</td>\n",
       "      <td>3.525</td>\n",
       "    </tr>\n",
       "    <tr>\n",
       "      <th>21</th>\n",
       "      <td>10.000000</td>\n",
       "      <td>3.527</td>\n",
       "    </tr>\n",
       "    <tr>\n",
       "      <th>22</th>\n",
       "      <td>12.000000</td>\n",
       "      <td>3.541</td>\n",
       "    </tr>\n",
       "    <tr>\n",
       "      <th>23</th>\n",
       "      <td>15.000000</td>\n",
       "      <td>3.561</td>\n",
       "    </tr>\n",
       "    <tr>\n",
       "      <th>24</th>\n",
       "      <td>20.000000</td>\n",
       "      <td>3.544</td>\n",
       "    </tr>\n",
       "    <tr>\n",
       "      <th>25</th>\n",
       "      <td>25.000000</td>\n",
       "      <td>3.464</td>\n",
       "    </tr>\n",
       "    <tr>\n",
       "      <th>26</th>\n",
       "      <td>30.000000</td>\n",
       "      <td>3.380</td>\n",
       "    </tr>\n",
       "    <tr>\n",
       "      <th>27</th>\n",
       "      <td>40.000000</td>\n",
       "      <td>3.169</td>\n",
       "    </tr>\n",
       "    <tr>\n",
       "      <th>28</th>\n",
       "      <td>50.000000</td>\n",
       "      <td>2.948</td>\n",
       "    </tr>\n",
       "  </tbody>\n",
       "</table>\n",
       "</div>"
      ],
      "text/plain": [
       "     tenor(y)   Rate\n",
       "0    0.083333  5.341\n",
       "1    0.166667  5.347\n",
       "2    0.250000  5.327\n",
       "3    0.333333  5.295\n",
       "4    0.416667  5.240\n",
       "5    0.500000  5.179\n",
       "6    0.583333  5.124\n",
       "7    0.666667  5.062\n",
       "8    0.750000  5.003\n",
       "9    0.833333  4.946\n",
       "10   0.916667  4.882\n",
       "11   1.000000  4.823\n",
       "12   1.500000  4.427\n",
       "13   2.000000  4.154\n",
       "14   3.000000  3.835\n",
       "15   4.000000  3.679\n",
       "16   5.000000  3.599\n",
       "17   6.000000  3.560\n",
       "18   7.000000  3.539\n",
       "19   8.000000  3.528\n",
       "20   9.000000  3.525\n",
       "21  10.000000  3.527\n",
       "22  12.000000  3.541\n",
       "23  15.000000  3.561\n",
       "24  20.000000  3.544\n",
       "25  25.000000  3.464\n",
       "26  30.000000  3.380\n",
       "27  40.000000  3.169\n",
       "28  50.000000  2.948"
      ]
     },
     "execution_count": 22,
     "metadata": {},
     "output_type": "execute_result"
    }
   ],
   "source": [
    "yc.show_df()"
   ]
  }
 ],
 "metadata": {
  "kernelspec": {
   "display_name": "base",
   "language": "python",
   "name": "python3"
  },
  "language_info": {
   "codemirror_mode": {
    "name": "ipython",
    "version": 3
   },
   "file_extension": ".py",
   "mimetype": "text/x-python",
   "name": "python",
   "nbconvert_exporter": "python",
   "pygments_lexer": "ipython3",
   "version": "3.11.4"
  }
 },
 "nbformat": 4,
 "nbformat_minor": 2
}
